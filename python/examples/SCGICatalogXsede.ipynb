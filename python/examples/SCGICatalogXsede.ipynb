{
 "cells": [
  {
   "cell_type": "markdown",
   "metadata": {},
   "source": [
    "## Resources from XSEDE API"
   ]
  },
  {
   "cell_type": "code",
   "execution_count": 1,
   "metadata": {},
   "outputs": [],
   "source": [
    "from sgci_resource import core\n",
    "gh = core.SCGICatalogXsede()"
   ]
  },
  {
   "cell_type": "markdown",
   "metadata": {},
   "source": [
    "## List Resources"
   ]
  },
  {
   "cell_type": "code",
   "execution_count": 3,
   "metadata": {},
   "outputs": [
    {
     "data": {
      "text/plain": [
       "['glade.ncar.xsede.org',\n",
       " 'anvil-gpu.purdue.xsede.org',\n",
       " 'jetstream2-gpu.indiana.xsede.org',\n",
       " 'ranch.tacc.xsede.org',\n",
       " 'kyric.uky.xsede.org',\n",
       " 'bridges2-gpu-ai.psc.xsede.org',\n",
       " 'bridges2-em.psc.xsede.org',\n",
       " 'jetstream2.indiana.xsede.org',\n",
       " 'jetstream2-lm.indiana.xsede.org',\n",
       " 'grid1.osg.xsede.org',\n",
       " 'jetstream.tacc.xsede.org',\n",
       " 'jetstream-storage.tacc.xsede.org',\n",
       " 'stampede2.tacc.xsede.org',\n",
       " 'osn.osn.xsede.org',\n",
       " 'expanse.sdsc.xsede.org',\n",
       " 'expanse-gpu.sdsc.xsede.org',\n",
       " 'bridges2-rm.psc.xsede.org',\n",
       " 'bridges2-ocean.psc.xsede.org',\n",
       " 'bridges2-gpu.psc.xsede.org',\n",
       " 'darwin.udel.xsede.org',\n",
       " 'darwin-gpu.udel.xsede.org',\n",
       " 'darwin-storage.udel.xsede.org',\n",
       " 'anvil.purdue.xsede.org',\n",
       " 'rockfish.jhu.xsede.org',\n",
       " 'delta-gpu.ncsa.xsede.org',\n",
       " 'delta-storage.ncsa.xsede.org',\n",
       " 'rockfish-LM.jhu.xsede.org',\n",
       " 'rockfish-a100.jhu.xsede.org']"
      ]
     },
     "execution_count": 3,
     "metadata": {},
     "output_type": "execute_result"
    }
   ],
   "source": [
    "l = gh.listResources()\n",
    "l\n"
   ]
  },
  {
   "cell_type": "markdown",
   "metadata": {},
   "source": [
    "## Load Stampede2 definition"
   ]
  },
  {
   "cell_type": "code",
   "execution_count": 4,
   "metadata": {},
   "outputs": [
    {
     "name": "stderr",
     "output_type": "stream",
     "text": [
      "/Users/denphi/Documents/Github/sgci-resource-clients/python/sgci_resource/core.py:170: UserWarning: 'storageResources' is a required property\n",
      "  warnings.warn(e.message)\n"
     ]
    },
    {
     "data": {
      "text/plain": [
       "{'schemaVersion': '1.0.0',\n",
       " 'host': 'stampede2.tacc.xsede.org',\n",
       " 'name': 'TACC Dell/Intel Knights Landing, Skylake System (Stampede2)',\n",
       " 'description': 'The Stampede2 Dell/Intel Knights Landing (KNL), Skylake (SKX) System provides the user community access to two Intel Xeon compute technologies.\\r\\n\\r\\nThe system is configured with 4204 Dell KNL compute nodes, each with a stand-alone Intel Xeon Phi Knights Landing bootable processor.  Each KNL node includes 68 cores, 16GB MCDRAM, 96GB DDR-4 memory and a 200GB SSD drive.  \\r\\n\\r\\nStampede2 also includes 1736 Intel Xeon Skylake (SKX) nodes and additional management nodes. Each SKX includes 48 cores, 192GB DDR-4 memory, and a 200GB SSD.\\r\\n\\r\\nAllocations awarded on Stampede2 may be used on either or both of the node types.\\r\\n\\r\\nCompute nodes have access to dedicated Lustre Parallel file systems totaling 28PB raw, provided by Cray. An Intel Omni-Path Architecture switch fabric connects the nodes and storage through a fat-tree topology with a point to point bandwidth of 100 Gb/s (unidirectional speed). 16 additional login and management servers complete the system. Stampede2 will deliver an estimated 18PF of peak performance.\\r\\n\\r\\nPlease see the Stampede2 User Guide for detailed information on the system and how to most effectively use it.\\r\\n\\r\\nhttps://portal.tacc.utexas.edu/user-guides/stampede2',\n",
       " 'computeResources': [{'schedulerType': 'BATCH',\n",
       "   'connections': [{'connectionProtocol': 'SSH',\n",
       "     'securityProtocol': 'SSHKEYS',\n",
       "     'port': 2222},\n",
       "    {'connectionProtocol': 'SSH', 'securityProtocol': 'X509', 'port': 2222},\n",
       "    {'connectionProtocol': 'SCP', 'securityProtocol': 'SSHKEYS', 'port': 2222},\n",
       "    {'connectionProtocol': 'SCP', 'securityProtocol': 'X509', 'port': 2222},\n",
       "    {'connectionProtocol': 'GRIDFTP',\n",
       "     'securityProtocol': 'X509',\n",
       "     'host': 'gridftp.stampede2.tacc.xsede.org',\n",
       "     'port': 2811}],\n",
       "   'batchSystem': {'jobManager': 'SLURM',\n",
       "    'partitions': [{'name': 'Todd',\n",
       "      'nodeHardware': {'cpuType': 'x86_64', 'memorySize': 0},\n",
       "      'totalNodes': 2},\n",
       "     {'name': 'Collin-SSH-Testing',\n",
       "      'nodeHardware': {'cpuType': 'x86_64', 'memorySize': 0},\n",
       "      'totalNodes': 2},\n",
       "     {'name': 'NodeType1',\n",
       "      'nodeHardware': {'cpuType': 'x86_64', 'memorySize': 1, 'cpuCount': 272},\n",
       "      'totalNodes': 4200},\n",
       "     {'name': 'float_dev',\n",
       "      'nodeHardware': {'cpuType': 'x86_64', 'memorySize': 0}},\n",
       "     {'name': 'NodeType2',\n",
       "      'nodeHardware': {'cpuType': 'x86_64', 'memorySize': 1, 'cpuCount': 96},\n",
       "      'totalNodes': 1736}]}},\n",
       "  {'schedulerType': 'FORK',\n",
       "   'forkSystem': {'systemType': 'LINUX'},\n",
       "   'connections': [{'connectionProtocol': 'SSH',\n",
       "     'securityProtocol': 'SSHKEYS',\n",
       "     'port': 2222},\n",
       "    {'connectionProtocol': 'SSH', 'securityProtocol': 'X509', 'port': 2222},\n",
       "    {'connectionProtocol': 'SCP', 'securityProtocol': 'SSHKEYS', 'port': 2222},\n",
       "    {'connectionProtocol': 'SCP', 'securityProtocol': 'X509', 'port': 2222},\n",
       "    {'connectionProtocol': 'GRIDFTP',\n",
       "     'securityProtocol': 'X509',\n",
       "     'host': 'gridftp.stampede2.tacc.xsede.org',\n",
       "     'port': 2811}]}],\n",
       " 'resourceStatus': {'status': 'Production',\n",
       "  'starts': '2017-06-13',\n",
       "  'ends': '2023-06-30'}}"
      ]
     },
     "execution_count": 4,
     "metadata": {},
     "output_type": "execute_result"
    }
   ],
   "source": [
    "stampede2 = gh.getResource('stampede2.tacc.xsede.org')\n",
    "stampede2"
   ]
  },
  {
   "cell_type": "markdown",
   "metadata": {},
   "source": [
    "## get Host, name and Scheduler Types"
   ]
  },
  {
   "cell_type": "code",
   "execution_count": 5,
   "metadata": {},
   "outputs": [
    {
     "data": {
      "text/plain": [
       "['TACC Dell/Intel Knights Landing, Skylake System (Stampede2)',\n",
       " 'stampede2.tacc.xsede.org',\n",
       " ['BATCH', 'FORK']]"
      ]
     },
     "execution_count": 5,
     "metadata": {},
     "output_type": "execute_result"
    }
   ],
   "source": [
    "gh.searchPath(\"[name, host, computeResources[].schedulerType]\", stampede2)"
   ]
  },
  {
   "cell_type": "code",
   "execution_count": null,
   "metadata": {},
   "outputs": [],
   "source": [
    "instance_json = '''[{ \n",
    "    \"instance\" : {\n",
    "        \"name\" : \"GaAs_Tutorial\",\n",
    "        \"application\": { \"#ref\" : \"{app}#application\" },\n",
    "        \"execution\" : {\n",
    "            \"host\" : { \"#ref\" : \"{res}#host\" },\n",
    "            \"connection\" : { \"#ref\" : \"{res}#((computeResources[?schedulerType==\\'BATCH\\'] | [0]).connections[?securityProtocol==\\'PASSWORDS\\'] | [0])\" },\n",
    "            \"execution\" : { \"#ref\" : \"{res}#(computeResources[?schedulerType==\\'BATCH\\'] | [0]).{jobManager:batchSystem.jobManager, commandPaths:batchSystem.commandPaths, partition:batchSystem.partitions[0]}\"},\n",
    "            \"parallel\" : { \"#ref\" : \"{res}#((computeResources[?schedulerType==\\'BATCH\\'] | [0]).batchSystem.[executionCommands[?commandType==\\'mpi\\']][] | [0])\" }\n",
    "        },\n",
    "        \"storage\":{\n",
    "            \"connection\" : { \"#ref\" : \"{res}#((computeResources[?schedulerType==\\'BATCH\\'] | [0]).connections[?securityProtocol==\\'PASSWORDS\\'] | [0])\" },\n",
    "            \"filesystem\" : { \"#ref\" : \"{res}#(storageResources[?storageType==\\'POSIX\\'].fileSystems[] | [0])\" } \n",
    "        }\n",
    "    }    \n",
    "}]'''\n",
    "a1 = gh.derefResource(instance_json, {'res': stampede2,)\n"
   ]
  },
  {
   "cell_type": "code",
   "execution_count": null,
   "metadata": {},
   "outputs": [],
   "source": []
  }
 ],
 "metadata": {
  "interpreter": {
   "hash": "aee8b7b246df8f9039afb4144a1f6fd8d2ca17a180786b69acc140d282b71a49"
  },
  "kernelspec": {
   "display_name": "Python 3.9.7 64-bit",
   "name": "python3"
  },
  "language_info": {
   "codemirror_mode": {
    "name": "ipython",
    "version": 3
   },
   "file_extension": ".py",
   "mimetype": "text/x-python",
   "name": "python",
   "nbconvert_exporter": "python",
   "pygments_lexer": "ipython3",
   "version": "3.9.7"
  },
  "orig_nbformat": 4
 },
 "nbformat": 4,
 "nbformat_minor": 2
}
