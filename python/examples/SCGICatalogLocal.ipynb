{
 "cells": [
  {
   "cell_type": "markdown",
   "metadata": {},
   "source": [
    "## Resources from XSEDE API"
   ]
  },
  {
   "cell_type": "code",
   "execution_count": 2,
   "metadata": {},
   "outputs": [],
   "source": [
    "from sgci_resource import core\n",
    "gh = core.SCGICatalogLocal(folder=\"./sgci-resource-inventory\")\n"
   ]
  },
  {
   "cell_type": "markdown",
   "metadata": {},
   "source": [
    "## List Resources"
   ]
  },
  {
   "cell_type": "code",
   "execution_count": 3,
   "metadata": {},
   "outputs": [
    {
     "data": {
      "text/plain": [
       "['resources-schema', 'stampede2.tacc.xsede', 'halstead.rcac.purdue']"
      ]
     },
     "execution_count": 3,
     "metadata": {},
     "output_type": "execute_result"
    }
   ],
   "source": [
    "l = gh.listResources()\n",
    "l\n"
   ]
  },
  {
   "cell_type": "markdown",
   "metadata": {},
   "source": [
    "## Load Stampede2 definition"
   ]
  },
  {
   "cell_type": "code",
   "execution_count": 4,
   "metadata": {},
   "outputs": [
    {
     "data": {
      "text/plain": [
       "{'schemaVersion': '1.0.0',\n",
       " 'host': 'stampede2.tacc.xsede.org',\n",
       " 'name': 'tacc-xsede-stampede2',\n",
       " 'description': 'WIP: Sample resource for TACC Stampede2 Cluster',\n",
       " 'computeResources': [{'schedulerType': 'BATCH',\n",
       "   'connections': [{'connectionProtocol': 'SSH',\n",
       "     'securityProtocol': 'SSHKEYS',\n",
       "     'port': 22},\n",
       "    {'connectionProtocol': 'SSH',\n",
       "     'securityProtocol': 'PASSWORDS',\n",
       "     'port': 22}],\n",
       "   'batchSystem': {'jobManager': 'SLURM',\n",
       "    'commandPaths': [{'name': 'SUBMISSION', 'path': '/bin/sbatch'}],\n",
       "    'partitions': [{'name': 'normal',\n",
       "      'totalNodes': 256,\n",
       "      'nodeHardware': {'cpuType': 'KNL CPUs @ 1.40GHz',\n",
       "       'cpuCount': 68,\n",
       "       'memoryType': 'DDR4',\n",
       "       'memorySize': '96 GB'}}],\n",
       "    'executionCommands': [{'commandType': 'mpi',\n",
       "      'commandPrefix': 'ibrun',\n",
       "      'moduleDependencies': ['intel/17.0.4', 'impi/17.0.3']}]}},\n",
       "  {'schedulerType': 'FORK',\n",
       "   'connections': [{'connectionProtocol': 'SSH',\n",
       "     'securityProtocol': 'SSHKEYS',\n",
       "     'port': 22},\n",
       "    {'connectionProtocol': 'SSH',\n",
       "     'securityProtocol': 'PASSWORDS',\n",
       "     'port': 22}],\n",
       "   'forkSystem': {'systemType': 'LINUX'}}],\n",
       " 'storageResources': [{'storageType': 'POSIX',\n",
       "   'connections': [{'connectionProtocol': 'SSH',\n",
       "     'securityProtocol': 'SSHKEYS',\n",
       "     'port': 22}],\n",
       "   'fileSystems': [{'homeDir': '/home1',\n",
       "     'scratchDir': '/scratch',\n",
       "     'workDir': '/work'}]}]}"
      ]
     },
     "execution_count": 4,
     "metadata": {},
     "output_type": "execute_result"
    }
   ],
   "source": [
    "stampede2 = gh.getResource('stampede2.tacc.xsede')\n",
    "stampede2"
   ]
  },
  {
   "cell_type": "markdown",
   "metadata": {},
   "source": [
    "## get Host, name and Scheduler Types"
   ]
  },
  {
   "cell_type": "code",
   "execution_count": 5,
   "metadata": {},
   "outputs": [
    {
     "data": {
      "text/plain": [
       "['tacc-xsede-stampede2', 'stampede2.tacc.xsede.org', ['BATCH', 'FORK']]"
      ]
     },
     "execution_count": 5,
     "metadata": {},
     "output_type": "execute_result"
    }
   ],
   "source": [
    "gh.searchPath(\"[name, host, computeResources[].schedulerType]\", stampede2)"
   ]
  },
  {
   "cell_type": "markdown",
   "metadata": {},
   "source": [
    "## De-reference a template"
   ]
  },
  {
   "cell_type": "code",
   "execution_count": 8,
   "metadata": {},
   "outputs": [
    {
     "data": {
      "text/plain": [
       "[{'instance': {'name': 'GaAs_Tutorial',\n",
       "   'execution': {'host': 'stampede2.tacc.xsede.org',\n",
       "    'connection': {'connectionProtocol': 'SSH',\n",
       "     'securityProtocol': 'PASSWORDS',\n",
       "     'port': 22},\n",
       "    'execution': {'jobManager': 'SLURM',\n",
       "     'commandPaths': [{'name': 'SUBMISSION', 'path': '/bin/sbatch'}],\n",
       "     'partition': {'name': 'normal',\n",
       "      'totalNodes': 256,\n",
       "      'nodeHardware': {'cpuType': 'KNL CPUs @ 1.40GHz',\n",
       "       'cpuCount': 68,\n",
       "       'memoryType': 'DDR4',\n",
       "       'memorySize': '96 GB'}}},\n",
       "    'parallel': {'commandType': 'mpi',\n",
       "     'commandPrefix': 'ibrun',\n",
       "     'moduleDependencies': ['intel/17.0.4', 'impi/17.0.3']}},\n",
       "   'storage': {'connection': {'connectionProtocol': 'SSH',\n",
       "     'securityProtocol': 'PASSWORDS',\n",
       "     'port': 22},\n",
       "    'filesystem': {'homeDir': '/home1',\n",
       "     'scratchDir': '/scratch',\n",
       "     'workDir': '/work'}}}}]"
      ]
     },
     "execution_count": 8,
     "metadata": {},
     "output_type": "execute_result"
    }
   ],
   "source": [
    "instance_json = '''[{\n",
    "    \"instance\" : {\n",
    "        \"name\" : \"GaAs_Tutorial\",\n",
    "        \"execution\" : {\n",
    "            \"host\" : { \"#ref\" : \"{res}#host\" },\n",
    "            \"connection\" : { \"#ref\" : \"{res}#((computeResources[?schedulerType==\\'BATCH\\'] | [0]).connections[?securityProtocol==\\'PASSWORDS\\'] | [0])\" },\n",
    "            \"execution\" : { \"#ref\" : \"{res}#(computeResources[?schedulerType==\\'BATCH\\'] | [0]).{jobManager:batchSystem.jobManager, commandPaths:batchSystem.commandPaths, partition:batchSystem.partitions[0]}\"},\n",
    "            \"parallel\" : { \"#ref\" : \"{res}#((computeResources[?schedulerType==\\'BATCH\\'] | [0]).batchSystem.[executionCommands[?commandType==\\'mpi\\']][] | [0])\" }\n",
    "        },\n",
    "        \"storage\":{\n",
    "            \"connection\" : { \"#ref\" : \"{res}#((computeResources[?schedulerType==\\'BATCH\\'] | [0]).connections[?securityProtocol==\\'PASSWORDS\\'] | [0])\" },\n",
    "            \"filesystem\" : { \"#ref\" : \"{res}#(storageResources[?storageType==\\'POSIX\\'].fileSystems[] | [0])\" }\n",
    "        }\n",
    "    }\n",
    "}]'''\n",
    "a1 = gh.derefResource(instance_json, {'res': stampede2})\n",
    "a1"
   ]
  }
 ],
 "metadata": {
  "interpreter": {
   "hash": "aee8b7b246df8f9039afb4144a1f6fd8d2ca17a180786b69acc140d282b71a49"
  },
  "kernelspec": {
   "display_name": "Python 3.9.7 64-bit",
   "name": "python3"
  },
  "language_info": {
   "codemirror_mode": {
    "name": "ipython",
    "version": 3
   },
   "file_extension": ".py",
   "mimetype": "text/x-python",
   "name": "python",
   "nbconvert_exporter": "python",
   "pygments_lexer": "ipython3",
   "version": "3.9.7"
  },
  "orig_nbformat": 4
 },
 "nbformat": 4,
 "nbformat_minor": 2
}
