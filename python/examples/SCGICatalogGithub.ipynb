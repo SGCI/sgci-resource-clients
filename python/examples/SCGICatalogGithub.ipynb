{
 "cells": [
  {
   "cell_type": "markdown",
   "metadata": {},
   "source": [
    "## Resources from XSEDE API"
   ]
  },
  {
   "cell_type": "code",
   "execution_count": 8,
   "metadata": {},
   "outputs": [],
   "source": [
    "from sgci_resource import core\n",
    "gh = core.SCGICatalogGithub(token=\"\")\n"
   ]
  },
  {
   "cell_type": "markdown",
   "metadata": {},
   "source": [
    "## List Resources"
   ]
  },
  {
   "cell_type": "code",
   "execution_count": 3,
   "metadata": {},
   "outputs": [
    {
     "data": {
      "text/plain": [
       "['bigred3.iu',\n",
       " 'carbonateHPC.iu.compute',\n",
       " 'comet.sdsc.compute',\n",
       " 'comet.sdsc.xsede',\n",
       " 'compute',\n",
       " 'corral.tacc.storage',\n",
       " 'halstead.rcac.purdue',\n",
       " 'posix-storages',\n",
       " 'scigap-dev.iu.storage',\n",
       " 'stampede2.tacc.xsede']"
      ]
     },
     "execution_count": 3,
     "metadata": {},
     "output_type": "execute_result"
    }
   ],
   "source": [
    "l = gh.listResources()\n",
    "l"
   ]
  },
  {
   "cell_type": "markdown",
   "metadata": {},
   "source": [
    "## Load Stampede2 definition"
   ]
  },
  {
   "cell_type": "code",
   "execution_count": 5,
   "metadata": {},
   "outputs": [
    {
     "data": {
      "text/plain": [
       "{'schemaVersion': '1.0.0',\n",
       " 'host': 'stampede2.tacc.xsede.org',\n",
       " 'name': 'tacc-xsede-stampede2',\n",
       " 'description': 'WIP: Sample resource for TACC Stampede2 Cluster',\n",
       " 'computeResources': [{'schedulerType': 'BATCH',\n",
       "   'connections': [{'connectionProtocol': 'SSH',\n",
       "     'securityProtocol': 'SSHKEYS',\n",
       "     'port': 22},\n",
       "    {'connectionProtocol': 'SSH',\n",
       "     'securityProtocol': 'PASSWORDS',\n",
       "     'port': 22}],\n",
       "   'batchSystem': {'jobManager': 'SLURM',\n",
       "    'commandPaths': [{'name': 'SUBMISSION', 'path': '/bin/sbatch'}],\n",
       "    'partitions': [{'name': 'normal',\n",
       "      'totalNodes': 256,\n",
       "      'nodeHardware': {'cpuType': 'KNL CPUs @ 1.40GHz',\n",
       "       'cpuCount': 68,\n",
       "       'memoryType': 'DDR4',\n",
       "       'memorySize': '96 GB'}}],\n",
       "    'executionCommands': [{'commandType': 'mpi',\n",
       "      'commandPrefix': 'ibrun',\n",
       "      'moduleDependencies': ['intel/17.0.4', 'impi/17.0.3']}]}},\n",
       "  {'schedulerType': 'FORK',\n",
       "   'connections': [{'connectionProtocol': 'SSH',\n",
       "     'securityProtocol': 'SSHKEYS',\n",
       "     'port': 22},\n",
       "    {'connectionProtocol': 'SSH',\n",
       "     'securityProtocol': 'PASSWORDS',\n",
       "     'port': 22}],\n",
       "   'forkSystem': {'systemType': 'LINUX'}}],\n",
       " 'storageResources': [{'storageType': 'POSIX',\n",
       "   'connections': [{'connectionProtocol': 'SSH',\n",
       "     'securityProtocol': 'SSHKEYS',\n",
       "     'port': 22}],\n",
       "   'fileSystems': [{'homeDir': '/home1',\n",
       "     'scratchDir': '/scratch',\n",
       "     'workDir': '/work'}]}]}"
      ]
     },
     "execution_count": 5,
     "metadata": {},
     "output_type": "execute_result"
    }
   ],
   "source": [
    "stampede2 = gh.getResource('stampede2.tacc.xsede')\n",
    "stampede2"
   ]
  },
  {
   "cell_type": "markdown",
   "metadata": {},
   "source": [
    "## get Host, name and Scheduler Types"
   ]
  },
  {
   "cell_type": "code",
   "execution_count": 6,
   "metadata": {},
   "outputs": [
    {
     "data": {
      "text/plain": [
       "['tacc-xsede-stampede2', 'stampede2.tacc.xsede.org', ['BATCH', 'FORK']]"
      ]
     },
     "execution_count": 6,
     "metadata": {},
     "output_type": "execute_result"
    }
   ],
   "source": [
    "gh.searchPath(\"[name, host, computeResources[].schedulerType]\", stampede2)"
   ]
  },
  {
   "cell_type": "code",
   "execution_count": null,
   "metadata": {},
   "outputs": [],
   "source": []
  }
 ],
 "metadata": {
  "interpreter": {
   "hash": "aee8b7b246df8f9039afb4144a1f6fd8d2ca17a180786b69acc140d282b71a49"
  },
  "kernelspec": {
   "display_name": "Python 3.9.7 64-bit",
   "name": "python3"
  },
  "language_info": {
   "codemirror_mode": {
    "name": "ipython",
    "version": 3
   },
   "file_extension": ".py",
   "mimetype": "text/x-python",
   "name": "python",
   "nbconvert_exporter": "python",
   "pygments_lexer": "ipython3",
   "version": "3.9.7"
  },
  "orig_nbformat": 4
 },
 "nbformat": 4,
 "nbformat_minor": 2
}
